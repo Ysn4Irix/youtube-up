{
  "nbformat": 4,
  "nbformat_minor": 0,
  "metadata": {
    "colab": {
      "provenance": []
    },
    "kernelspec": {
      "name": "python3",
      "display_name": "Python 3"
    },
    "language_info": {
      "name": "python"
    }
  },
  "cells": [
    {
      "cell_type": "markdown",
      "metadata": {
        "id": "XCBBbWxx_5g7"
      },
      "source": [
        "#<strong>Upload videos from Google Drive to YouTube Fixed by Ysn4Irix\n",
        "\n",
        "### RESUME Supported :)\n",
        "\n",
        "## 1st Step: <a href=\"https://console.cloud.google.com/\">Create & Download Credentials.json file</a>\n",
        "\n",
        "## 2nd Step: <a href=\"https://www.youtube.com/watch?v=fN8WwVQTWYk\">Enable YouTube Data API 3</a>\n",
        "\n",
        "## 3rd Step: <a href=\"https://www.youtube.com/watch?v=U6YPgARhRzA&list=PL_lHtZQj-g8MH3blMOjptLqUIZFIQiNkv\">Mount Cloud Drives WITHOUT rclone in Colab</a>\n",
        "\n",
        "## <strong>Credit</strong>: <a href=\"https://github.com/agent87/youtube-up\">Agent87</a>"
      ]
    },
    {
      "cell_type": "code",
      "metadata": {
        "id": "IKzPx8trBR-f"
      },
      "source": [
        "from google.colab import drive\n",
        "drive.mount('/content/drive')"
      ],
      "execution_count": null,
      "outputs": []
    },
    {
      "cell_type": "code",
      "metadata": {
        "id": "mujkmDFaTPW9"
      },
      "source": [
        "#@title <<---- Run this cell to install dependencies\n",
        "!git clone https://github.com/Ysn4Irix/youtube-up.git\n",
        "!cd youtube-up\n",
        "!python youtube-up/setup.py"
      ],
      "execution_count": null,
      "outputs": []
    },
    {
      "cell_type": "code",
      "metadata": {
        "id": "UfnlVNo4BdkJ"
      },
      "source": [],
      "execution_count": null,
      "outputs": []
    },
    {
      "cell_type": "code",
      "metadata": {
        "id": "nuyNmDQeuqSF"
      },
      "source": [
        "#@title <<---- Run this cell whenever you want to upload videos in current session\n",
        "!python2 youtube-up/upload.py"
      ],
      "execution_count": null,
      "outputs": []
    },
    {
      "cell_type": "code",
      "metadata": {
        "id": "6YxuTIglBeOq"
      },
      "source": [],
      "execution_count": null,
      "outputs": []
    }
  ]
}